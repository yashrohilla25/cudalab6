{
  "nbformat": 4,
  "nbformat_minor": 0,
  "metadata": {
    "colab": {
      "provenance": [],
      "gpuType": "T4",
      "authorship_tag": "ABX9TyNKwg8UjwjL3+nJGDcx4ex3",
      "include_colab_link": true
    },
    "kernelspec": {
      "name": "python3",
      "display_name": "Python 3"
    },
    "language_info": {
      "name": "python"
    },
    "accelerator": "GPU"
  },
  "cells": [
    {
      "cell_type": "markdown",
      "metadata": {
        "id": "view-in-github",
        "colab_type": "text"
      },
      "source": [
        "<a href=\"https://colab.research.google.com/github/yashrohilla25/cudalab6/blob/main/parallellabn6.ipynb\" target=\"_parent\"><img src=\"https://colab.research.google.com/assets/colab-badge.svg\" alt=\"Open In Colab\"/></a>"
      ]
    },
    {
      "cell_type": "code",
      "execution_count": null,
      "metadata": {
        "id": "muD43Une5RnQ",
        "colab": {
          "base_uri": "https://localhost:8080/"
        },
        "outputId": "a01d975e-109a-43d1-f281-adc8392d9424"
      },
      "outputs": [
        {
          "output_type": "stream",
          "name": "stdout",
          "text": [
            "Writing vector.cu\n"
          ]
        }
      ],
      "source": [
        "%%writefile vector.cu\n",
        "#include <iostream>\n",
        "#include <cmath>\n",
        "#include <cuda.h>\n",
        "#include <chrono>\n",
        "\n",
        "#define N 1000000  // Vector size\n",
        "\n",
        "__global__ void vectorAdd(float *a, float *b, float *c) {\n",
        "    int i = blockIdx.x * blockDim.x + threadIdx.x;\n",
        "    if (i < N) c[i] = a[i] + b[i];\n",
        "}\n",
        "\n",
        "__global__ void vectorMul(float *a, float *b, float *c) {\n",
        "    int i = blockIdx.x * blockDim.x + threadIdx.x;\n",
        "    if (i < N) c[i] = a[i] * b[i];\n",
        "}\n",
        "\n",
        "__global__ void vectorSqrt(float *a, float *c) {\n",
        "    int i = blockIdx.x * blockDim.x + threadIdx.x;\n",
        "    if (i < N) c[i] = sqrtf(a[i]);\n",
        "}\n",
        "\n",
        "void initialize(float *a, float *b) {\n",
        "    for (int i = 0; i < N; i++) {\n",
        "        a[i] = (float)(i + 1);\n",
        "        b[i] = (float)(i + 2);\n",
        "    }\n",
        "}\n",
        "\n",
        "void measureExecutionTime(void (*kernel)(float *, float *, float *), float *a, float *b, float *c, const char* name) {\n",
        "    float *d_a, *d_b, *d_c;\n",
        "    size_t size = N * sizeof(float);\n",
        "\n",
        "    cudaMalloc(&d_a, size);\n",
        "    cudaMalloc(&d_b, size);\n",
        "    cudaMalloc(&d_c, size);\n",
        "\n",
        "    cudaMemcpy(d_a, a, size, cudaMemcpyHostToDevice);\n",
        "    cudaMemcpy(d_b, b, size, cudaMemcpyHostToDevice);\n",
        "\n",
        "    auto start = std::chrono::high_resolution_clock::now();\n",
        "\n",
        "    kernel<<<(N + 255) / 256, 256>>>(d_a, d_b, d_c);\n",
        "    cudaDeviceSynchronize();\n",
        "\n",
        "    auto end = std::chrono::high_resolution_clock::now();\n",
        "    std::chrono::duration<double> elapsed = end - start;\n",
        "\n",
        "    std::cout << name << \" Time: \" << elapsed.count() << \" seconds\\n\";\n",
        "\n",
        "    cudaFree(d_a); cudaFree(d_b); cudaFree(d_c);\n",
        "}\n",
        "\n",
        "int main() {\n",
        "    float *a = new float[N];\n",
        "    float *b = new float[N];\n",
        "    float *c = new float[N];\n",
        "\n",
        "    initialize(a, b);\n",
        "\n",
        "    // Measure addition\n",
        "    measureExecutionTime(vectorAdd, a, b, c, \"Addition\");\n",
        "\n",
        "    // Measure multiplication\n",
        "    measureExecutionTime(vectorMul, a, b, c, \"Multiplication\");\n",
        "\n",
        "    // Measure square root\n",
        "    float *d_a, *d_c;\n",
        "    size_t size = N * sizeof(float);\n",
        "    cudaMalloc(&d_a, size);\n",
        "    cudaMalloc(&d_c, size);\n",
        "    cudaMemcpy(d_a, a, size, cudaMemcpyHostToDevice);\n",
        "\n",
        "    auto start = std::chrono::high_resolution_clock::now();\n",
        "    vectorSqrt<<<(N + 255) / 256, 256>>>(d_a, d_c);\n",
        "    cudaDeviceSynchronize();\n",
        "    auto end = std::chrono::high_resolution_clock::now();\n",
        "    std::chrono::duration<double> elapsed = end - start;\n",
        "    std::cout << \"Square Root Time: \" << elapsed.count() << \" seconds\\n\";\n",
        "\n",
        "    cudaFree(d_a); cudaFree(d_c);\n",
        "\n",
        "    delete[] a; delete[] b; delete[] c;\n",
        "    return 0;\n",
        "}\n"
      ]
    },
    {
      "cell_type": "code",
      "source": [
        "!nvcc vector.cu -o vector\n",
        "!./vector\n"
      ],
      "metadata": {
        "colab": {
          "base_uri": "https://localhost:8080/"
        },
        "id": "ei6T9RZwxry6",
        "outputId": "d5e2e7a2-6cb3-4e19-cbb8-701666dde635"
      },
      "execution_count": null,
      "outputs": [
        {
          "output_type": "stream",
          "name": "stdout",
          "text": [
            "Addition Time: 6.05e-06 seconds\n",
            "Multiplication Time: 5.63e-07 seconds\n",
            "Square Root Time: 3.9e-07 seconds\n"
          ]
        }
      ]
    },
    {
      "cell_type": "code",
      "source": [
        "%%writefile sqrt.cu\n",
        "#include <iostream>\n",
        "#include <cmath>\n",
        "#include <cuda.h>\n",
        "\n",
        "#define N 1024  // You can increase this\n",
        "\n",
        "// CUDA kernel to compute square root\n",
        "__global__ void vectorSqrt(float *A, float *C) {\n",
        "    int idx = threadIdx.x + blockDim.x * blockIdx.x;\n",
        "    if (idx < N) {\n",
        "        C[idx] = sqrtf(A[idx]);\n",
        "    }\n",
        "}\n",
        "\n",
        "int main() {\n",
        "    float *h_A, *h_C;\n",
        "    float *d_A, *d_C;\n",
        "    size_t size = N * sizeof(float);\n",
        "\n",
        "    // Allocate host memory\n",
        "    h_A = new float[N];\n",
        "    h_C = new float[N];\n",
        "\n",
        "    // Initialize host array\n",
        "    for (int i = 0; i < N; i++) {\n",
        "        h_A[i] = i * 1.0f;  // Fill A with 0.0, 1.0, 2.0, ...\n",
        "    }\n",
        "\n",
        "    // Allocate device memory\n",
        "    cudaMalloc((void **)&d_A, size);\n",
        "    cudaMalloc((void **)&d_C, size);\n",
        "\n",
        "    // Copy input from host to device\n",
        "    cudaMemcpy(d_A, h_A, size, cudaMemcpyHostToDevice);\n",
        "\n",
        "    // Launch kernel\n",
        "    int threadsPerBlock = 256;\n",
        "    int blocksPerGrid = (N + threadsPerBlock - 1) / threadsPerBlock;\n",
        "    vectorSqrt<<<blocksPerGrid, threadsPerBlock>>>(d_A, d_C);\n",
        "\n",
        "    // Copy result back to host\n",
        "    cudaMemcpy(h_C, d_C, size, cudaMemcpyDeviceToHost);\n",
        "\n",
        "    // Print some results\n",
        "    std::cout << \"A[i] -> C[i] (sqrt)\\n\";\n",
        "    for (int i = 0; i < 10; i++) {\n",
        "        std::cout << h_A[i] << \" -> \" << h_C[i] << \"\\n\";\n",
        "    }\n",
        "\n",
        "    // Cleanup\n",
        "    delete[] h_A;\n",
        "    delete[] h_C;\n",
        "    cudaFree(d_A);\n",
        "    cudaFree(d_C);\n",
        "\n",
        "    return 0;\n",
        "}\n"
      ],
      "metadata": {
        "colab": {
          "base_uri": "https://localhost:8080/"
        },
        "id": "s64ZtUrQyaIJ",
        "outputId": "cd8a2451-c546-4890-b4be-6467d7f4e491"
      },
      "execution_count": null,
      "outputs": [
        {
          "output_type": "stream",
          "name": "stdout",
          "text": [
            "Writing sqrt.cu\n"
          ]
        }
      ]
    },
    {
      "cell_type": "code",
      "source": [
        "!nvcc sqrt.cu -o sqrt -arch sm_75"
      ],
      "metadata": {
        "id": "QXgOkaKNyvVT"
      },
      "execution_count": null,
      "outputs": []
    },
    {
      "cell_type": "code",
      "source": [
        "!./sqrt"
      ],
      "metadata": {
        "colab": {
          "base_uri": "https://localhost:8080/"
        },
        "id": "evvlIGG8y6R0",
        "outputId": "a4493b08-4e0f-4e65-cea8-4e859a303e76"
      },
      "execution_count": null,
      "outputs": [
        {
          "output_type": "stream",
          "name": "stdout",
          "text": [
            "A[i] -> C[i] (sqrt)\n",
            "0 -> 0\n",
            "1 -> 1\n",
            "2 -> 1.41421\n",
            "3 -> 1.73205\n",
            "4 -> 2\n",
            "5 -> 2.23607\n",
            "6 -> 2.44949\n",
            "7 -> 2.64575\n",
            "8 -> 2.82843\n",
            "9 -> 3\n"
          ]
        }
      ]
    },
    {
      "cell_type": "code",
      "source": [
        "%%writefile mulsqrt.cu\n",
        "#include <stdio.h>\n",
        "#include <cuda.h>\n",
        "#include <math.h>\n",
        "#include <chrono>\n",
        "\n",
        "__global__ void computeSqrt(float *A, float *C, int N) {\n",
        "    int idx = threadIdx.x + blockDim.x * blockIdx.x;\n",
        "    if (idx < N) {\n",
        "        C[idx] = sqrtf(A[idx]);\n",
        "    }\n",
        "}\n",
        "\n",
        "void runTest(int N) {\n",
        "    float *h_A = new float[N];\n",
        "    float *h_C = new float[N];\n",
        "    float *d_A, *d_C;\n",
        "\n",
        "    for (int i = 0; i < N; ++i) {\n",
        "        h_A[i] = i * 1.0f;\n",
        "    }\n",
        "\n",
        "    cudaMalloc(&d_A, N * sizeof(float));\n",
        "    cudaMalloc(&d_C, N * sizeof(float));\n",
        "    cudaMemcpy(d_A, h_A, N * sizeof(float), cudaMemcpyHostToDevice);\n",
        "\n",
        "    int blockSize = 256;\n",
        "    int numBlocks = (N + blockSize - 1) / blockSize;\n",
        "\n",
        "    auto start = std::chrono::high_resolution_clock::now();\n",
        "    computeSqrt<<<numBlocks, blockSize>>>(d_A, d_C, N);\n",
        "    cudaDeviceSynchronize();\n",
        "    auto end = std::chrono::high_resolution_clock::now();\n",
        "\n",
        "    cudaMemcpy(h_C, d_C, N * sizeof(float), cudaMemcpyDeviceToHost);\n",
        "\n",
        "    std::chrono::duration<double, std::milli> duration = end - start;\n",
        "    printf(\"N = %d\\tTime = %.4f ms\\n\", N, duration.count());\n",
        "\n",
        "    cudaFree(d_A);\n",
        "    cudaFree(d_C);\n",
        "    delete[] h_A;\n",
        "    delete[] h_C;\n",
        "}\n",
        "\n",
        "int main() {\n",
        "    int sizes[] = {50000, 500000, 5000000, 50000000};\n",
        "    for (int i = 0; i < 4; ++i) {\n",
        "        runTest(sizes[i]);\n",
        "    }\n",
        "    return 0;\n",
        "}\n"
      ],
      "metadata": {
        "id": "cg49UfxBUxuR",
        "colab": {
          "base_uri": "https://localhost:8080/"
        },
        "outputId": "657e2b7e-508c-49f6-b33c-5152bd0626f9"
      },
      "execution_count": 5,
      "outputs": [
        {
          "output_type": "stream",
          "name": "stdout",
          "text": [
            "Overwriting mulsqrt.cu\n"
          ]
        }
      ]
    },
    {
      "cell_type": "code",
      "source": [
        "!nvcc mulsqrt.cu -o mulsqrt -arch sm_75\n",
        "!./mulsqrt\n"
      ],
      "metadata": {
        "colab": {
          "base_uri": "https://localhost:8080/"
        },
        "id": "VjaCKtffFRCX",
        "outputId": "52382a05-289c-45df-90fb-e6feee5fedd8"
      },
      "execution_count": 6,
      "outputs": [
        {
          "output_type": "stream",
          "name": "stdout",
          "text": [
            "N = 50000\tTime = 0.1230 ms\n",
            "N = 500000\tTime = 0.1134 ms\n",
            "N = 5000000\tTime = 0.2676 ms\n",
            "N = 50000000\tTime = 1.8581 ms\n"
          ]
        }
      ]
    }
  ]
}